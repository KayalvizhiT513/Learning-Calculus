{
  "nbformat": 4,
  "nbformat_minor": 0,
  "metadata": {
    "colab": {
      "provenance": [],
      "authorship_tag": "ABX9TyMPSGXOEEcAAPLyyVaOtD8x",
      "include_colab_link": true
    },
    "kernelspec": {
      "name": "python3",
      "display_name": "Python 3"
    },
    "language_info": {
      "name": "python"
    }
  },
  "cells": [
    {
      "cell_type": "markdown",
      "metadata": {
        "id": "view-in-github",
        "colab_type": "text"
      },
      "source": [
        "<a href=\"https://colab.research.google.com/github/KayalvizhiT513/Learning-Calculus/blob/main/Coding_Assignment_1.ipynb\" target=\"_parent\"><img src=\"https://colab.research.google.com/assets/colab-badge.svg\" alt=\"Open In Colab\"/></a>"
      ]
    },
    {
      "cell_type": "markdown",
      "source": [
        "**Equation of circle:**\n",
        "$x^2 + y^2 = 1$<br>\n",
        "To find the area under the curve in the first quadrant:\n",
        "\n",
        "* **Method1:** Using Reimann Sum\n",
        "  * Step 1: Divide the area between the points **a** and **b** under the curve into **n** slices of same width\n",
        "  * Step 2: Calculate sum of the area of the each of the small slices by finding the product of width of a slice and height of the slice\n",
        "    * width: Δ = (b - a)/n, here a = 0 and b = 1, therefore width, Δ = 1/n\n",
        "    * height: y <br>\n",
        "  $$Area = \\lim_{Δ \\to 0} \\sum_{i=1}^{n} f(x_i).Δ$$\n",
        "* **Method2:** Using Integral calculus\n",
        "  * Step 1: Rewrite circle equation as $y = \\sqrt{1 - x^2}$\n",
        "  * Step 2: Integrate as x varies between 0 and 1,\n",
        "  $$Area = \\int_{0}^{1}\\sqrt{1 - x^2}dx$$\n",
        "* **Method3:** Using Geometry\n",
        "  * Area of a quadrant = Area of Circle / 4 = $πr^2 / 4$\n",
        "  * Given radius = 1, area of quadrant = $π/4$\n"
      ],
      "metadata": {
        "id": "rZhkxCCIJtjo"
      }
    },
    {
      "cell_type": "markdown",
      "source": [
        "## Reimann Sum to calculate area"
      ],
      "metadata": {
        "id": "XVGzx6S0Bj9q"
      }
    },
    {
      "cell_type": "code",
      "source": [
        "from sympy import *"
      ],
      "metadata": {
        "id": "pTp4JDFw-zNC"
      },
      "execution_count": 1,
      "outputs": []
    },
    {
      "cell_type": "code",
      "source": [
        "# Initialize pretty printing for sympy expressions\n",
        "init_printing(use_unicode=False)"
      ],
      "metadata": {
        "id": "inonuM21Ad5l"
      },
      "execution_count": 2,
      "outputs": []
    },
    {
      "cell_type": "code",
      "source": [
        "# Define the symbol 'x' for symbolic computation\n",
        "x = Symbol('x')"
      ],
      "metadata": {
        "id": "8BNQvnHkAhsX"
      },
      "execution_count": 3,
      "outputs": []
    },
    {
      "cell_type": "code",
      "source": [
        "# Define the function y = sqrt(1 - x^2)\n",
        "y = (1 - x**2)**(1/2)"
      ],
      "metadata": {
        "id": "mztD2XJIAnhf"
      },
      "execution_count": 4,
      "outputs": []
    },
    {
      "cell_type": "code",
      "source": [
        "y"
      ],
      "metadata": {
        "colab": {
          "base_uri": "https://localhost:8080/",
          "height": 42
        },
        "id": "0xVzv8ye6PWy",
        "outputId": "f6f88382-8a5a-4418-c179-8886d35c6be7"
      },
      "execution_count": 5,
      "outputs": [
        {
          "output_type": "execute_result",
          "data": {
            "text/plain": [
              "        0.5\n",
              "/     2\\   \n",
              "\\1 - x /   "
            ],
            "text/latex": "$\\displaystyle \\left(1 - x^{2}\\right)^{0.5}$"
          },
          "metadata": {},
          "execution_count": 5
        }
      ]
    },
    {
      "cell_type": "code",
      "source": [
        "def reimann_sum(y_func, n, a, b):\n",
        "    # define the width of each subinterval as delta_x\n",
        "    delta_x = (b - a) / n\n",
        "    sum = 0\n",
        "    for i in range(1, n+1):\n",
        "        # calculate the area of each subinterval and add it to the sum\n",
        "        sum += y_func.subs(x, a + i * delta_x) * delta_x\n",
        "    return sum"
      ],
      "metadata": {
        "id": "xqf8lWnz76Xz"
      },
      "execution_count": 6,
      "outputs": []
    },
    {
      "cell_type": "code",
      "source": [
        "area = reimann_sum(y, 100, 0, 1)\n",
        "area"
      ],
      "metadata": {
        "colab": {
          "base_uri": "https://localhost:8080/",
          "height": 37
        },
        "id": "ecQyFVR786LC",
        "outputId": "76addc04-63e9-4118-a7ba-adeff32a55b6"
      },
      "execution_count": 79,
      "outputs": [
        {
          "output_type": "execute_result",
          "data": {
            "text/plain": [
              "0.780104257944762"
            ],
            "text/latex": "$\\displaystyle 0.780104257944762$"
          },
          "metadata": {},
          "execution_count": 79
        }
      ]
    },
    {
      "cell_type": "code",
      "source": [
        "def reimann_sum_rect_tri(y_func, n, a, b):\n",
        "    # define the width of each subinterval as delta_x\n",
        "    delta_x = (b - a) / n\n",
        "    sum = 0\n",
        "    for i in range(1, n+1):\n",
        "        # calculate the area of each rectangular subinterval and add it to the sum\n",
        "        sum += y_func.subs(x, a + i * delta_x) * delta_x\n",
        "    for i in range(0, n-1):\n",
        "        # calculate the area of each triangular subinterval and add it to the sum\n",
        "        sum += 0.5 * (y_func.subs(x, a + i * delta_x) - y_func.subs(x, a + (i+1) * delta_x)) * delta_x\n",
        "    return sum"
      ],
      "metadata": {
        "id": "VtX4zH4CHfWF"
      },
      "execution_count": 80,
      "outputs": []
    },
    {
      "cell_type": "code",
      "source": [
        "area_rect_tri = reimann_sum_rect_tri(y, 100, 0, 1)\n",
        "area_rect_tri"
      ],
      "metadata": {
        "colab": {
          "base_uri": "https://localhost:8080/",
          "height": 37
        },
        "id": "2kkzRXVSIp3C",
        "outputId": "0dc7cade-9c5e-48d7-e95d-5b6e8cb4609c"
      },
      "execution_count": 81,
      "outputs": [
        {
          "output_type": "execute_result",
          "data": {
            "text/plain": [
              "0.784398921145778"
            ],
            "text/latex": "$\\displaystyle 0.784398921145778$"
          },
          "metadata": {},
          "execution_count": 81
        }
      ]
    },
    {
      "cell_type": "code",
      "source": [
        "import numpy as np\n",
        "from matplotlib import pyplot as plt"
      ],
      "metadata": {
        "id": "l-Yby4tJ9BgJ"
      },
      "execution_count": 9,
      "outputs": []
    },
    {
      "cell_type": "code",
      "source": [
        "# Create a list of 'n' values ranging from 5 to 500, incremented by 5\n",
        "x_vals = [i for i in range(5, 501, 5)]"
      ],
      "metadata": {
        "id": "7yM0UsLtClXZ"
      },
      "execution_count": 57,
      "outputs": []
    },
    {
      "cell_type": "code",
      "source": [
        "# Compute the Riemann sum for each value of n in x_vals\n",
        "area_vals1 = [area for area in map(lambda n: reimann_sum(y, n, 0, 1), x_vals)]\n",
        "area_vals2 = [area for area in map(lambda n: reimann_sum_rect_tri(y, n, 0, 1), x_vals)]"
      ],
      "metadata": {
        "id": "m4OHxhNG-3Ez"
      },
      "execution_count": 77,
      "outputs": []
    },
    {
      "cell_type": "code",
      "source": [
        "actual_area = np.full((100,1), area_of_quadrant)"
      ],
      "metadata": {
        "id": "Yr4M1kQyPiwy"
      },
      "execution_count": 65,
      "outputs": []
    },
    {
      "cell_type": "code",
      "source": [
        "# Plot the Riemann sum approximations as a function of 'n'\n",
        "plt.plot(x_vals, area_vals1)\n",
        "plt.plot(x_vals, area_vals2)\n",
        "plt.plot(x_vals, actual_area)\n",
        "plt.legend(['Reimann Sum Rect', 'Reimann Sum Rect+Triangle', 'Value of pi/4(Area of quadrant)'])\n",
        "plt.xlabel('n')\n",
        "plt.ylabel('area')\n",
        "plt.show()"
      ],
      "metadata": {
        "colab": {
          "base_uri": "https://localhost:8080/",
          "height": 449
        },
        "id": "Y0WoA3GXC1i_",
        "outputId": "45a502f2-a9d2-404c-88a8-1a132ac64b2a"
      },
      "execution_count": 85,
      "outputs": [
        {
          "output_type": "display_data",
          "data": {
            "text/plain": [
              "<Figure size 640x480 with 1 Axes>"
            ],
            "image/png": "[encoded data removed]"
          },
          "metadata": {}
        }
      ]
    },
    {
      "cell_type": "code",
      "source": [
        "# Plot Error vs n\n",
        "error_vals1 = [abs(area - area_of_quadrant) for area in area_vals1]\n",
        "error_vals2 = [abs(area_rect_tri - area_of_quadrant) for area in area_vals2]\n",
        "plt.plot(x_vals, error_vals1)\n",
        "plt.plot(x_vals, error_vals2)\n",
        "plt.legend(['Reimann Sum Rect', 'Reimann Sum Rect+Triangle'])\n",
        "plt.xlabel('n')\n",
        "plt.ylabel('error')\n",
        "plt.show()"
      ],
      "metadata": {
        "colab": {
          "base_uri": "https://localhost:8080/",
          "height": 449
        },
        "id": "iKh4DdsEik6e",
        "outputId": "3b7f30e5-42a2-4e8a-ea08-17f951e91c4b"
      },
      "execution_count": 86,
      "outputs": [
        {
          "output_type": "display_data",
          "data": {
            "text/plain": [
              "<Figure size 640x480 with 1 Axes>"
            ],
            "image/png": "[encoded data removed]"
          },
          "metadata": {}
        }
      ]
    },
    {
      "cell_type": "markdown",
      "source": [
        "## Integral calculus to calculate area"
      ],
      "metadata": {
        "id": "D8UFeUJfBMad"
      }
    },
    {
      "cell_type": "code",
      "execution_count": 15,
      "metadata": {
        "id": "cZ2yhKQD-XfO"
      },
      "outputs": [],
      "source": [
        "from scipy import integrate"
      ]
    },
    {
      "cell_type": "code",
      "source": [
        "# Defining y in terms of x as f(x)\n",
        "def func(x): return (1 - x**2)**(1/2)"
      ],
      "metadata": {
        "id": "02DqwDyR-axR"
      },
      "execution_count": 16,
      "outputs": []
    },
    {
      "cell_type": "code",
      "source": [
        "# Calculating the integration of f(x) with limits 0 and 1\n",
        "result = integrate.fixed_quad(func, 0, 1, n=5)[0]"
      ],
      "metadata": {
        "id": "hLYJgrNF-cVh"
      },
      "execution_count": 17,
      "outputs": []
    },
    {
      "cell_type": "code",
      "source": [
        "print(result)"
      ],
      "metadata": {
        "colab": {
          "base_uri": "https://localhost:8080/"
        },
        "id": "_az6MOyu-dsx",
        "outputId": "23961a6d-02f5-4604-f2ce-bef78574f882"
      },
      "execution_count": 18,
      "outputs": [
        {
          "output_type": "stream",
          "name": "stdout",
          "text": [
            "0.7862954439173373\n"
          ]
        }
      ]
    },
    {
      "cell_type": "markdown",
      "source": [
        "Integrating $\\int_0^1 \\sqrt{1 - x^2} dx$\n",
        "1. **The Integral:**\n",
        "   $\n",
        "   I = \\int_0^1 \\sqrt{1 - x^2} \\, dx\n",
        "   $\n",
        "\n",
        "2. **Substitute $ x = \\sin \\theta $:**\n",
        "\n",
        "   We use the substitution $ x = \\sin \\theta $, hence $ dx = \\cos \\theta \\, d\\theta $. Also, when $ x = 0 $, $ \\theta = 0 $, and when $ x = 1 $, $ \\theta = \\frac{\\pi}{2} $.\n",
        "   \n",
        "   $$\n",
        "   I = \\int_0^{\\frac{\\pi}{2}} \\sqrt{1 - \\sin^2 \\theta} \\cdot \\cos \\theta \\, d\\theta\n",
        "   $$\n",
        "\n",
        "3. **Simplify Using the Identity $ \\sqrt{1 - \\sin^2 \\theta} = \\cos \\theta $:**\n",
        "\n",
        "   Using the Pythagorean identity $ \\sqrt{1 - \\sin^2 \\theta} = \\cos \\theta $, the integral simplifies to:\n",
        "   \n",
        "   $$\n",
        "   I = \\int_0^{\\frac{\\pi}{2}} \\cos^2 \\theta \\, d\\theta\n",
        "   $$\n",
        "\n",
        "4. **Use the Double Angle Identity for $ \\cos^2 \\theta $:**\n",
        "\n",
        "   Recall the identity $ \\cos^2 \\theta = \\frac{1 + \\cos 2\\theta}{2} $. Thus, the integral becomes:\n",
        "   \n",
        "   $$\n",
        "   I = \\int_0^{\\frac{\\pi}{2}} \\frac{1 + \\cos 2\\theta}{2} \\, d\\theta\n",
        "   $$\n",
        "\n",
        "5. **Split the Integral:**\n",
        "\n",
        "   Now, split the integral into two parts:\n",
        "   \n",
        "   $$\n",
        "   I = \\frac{1}{2} \\int_0^{\\frac{\\pi}{2}} 1 \\, d\\theta + \\frac{1}{2} \\int_0^{\\frac{\\pi}{2}} \\cos 2\\theta \\, d\\theta\n",
        "   $$\n",
        "\n",
        "6. **Evaluate the First Integral:**\n",
        "\n",
        "   The first integral is straightforward:\n",
        "   \n",
        "   $$\n",
        "   \\frac{1}{2} \\int_0^{\\frac{\\pi}{2}} 1 \\, d\\theta = \\frac{1}{2} \\cdot \\frac{\\pi}{2} = \\frac{\\pi}{4}\n",
        "   $$\n",
        "\n",
        "7. **Evaluate the Second Integral:**\n",
        "\n",
        "   The second integral can be evaluated as follows:\n",
        "   \n",
        "   $$\n",
        "   \\frac{1}{2} \\int_0^{\\frac{\\pi}{2}} \\cos 2\\theta \\, d\\theta = \\frac{1}{2} \\cdot \\left[ \\frac{\\sin 2\\theta}{2} \\right]_0^{\\frac{\\pi}{2}} = \\frac{1}{2} \\cdot 0 = 0\n",
        "   $$\n",
        "\n",
        "8. **Final Answer:**\n",
        "\n",
        "   Combining both results, the value of the integral is:\n",
        "   \n",
        "   $$\n",
        "   I = \\frac{\\pi}{4}\n",
        "   $$\n",
        "\n",
        "Thus, the integral $ \\int_0^1 \\sqrt{1 - x^2} \\, dx = \\frac{\\pi}{4} $."
      ],
      "metadata": {
        "id": "UmAjxhTnaoQq"
      }
    },
    {
      "cell_type": "code",
      "source": [
        "import numpy as np"
      ],
      "metadata": {
        "id": "Wjo992f2-u_B"
      },
      "execution_count": 19,
      "outputs": []
    },
    {
      "cell_type": "code",
      "source": [
        "np.pi/4"
      ],
      "metadata": {
        "colab": {
          "base_uri": "https://localhost:8080/",
          "height": 37
        },
        "id": "TCghwera-xfq",
        "outputId": "15c3ecde-cbdf-44aa-ecbb-6b0311e4c369"
      },
      "execution_count": 20,
      "outputs": [
        {
          "output_type": "execute_result",
          "data": {
            "text/plain": [
              "0.7853981633974483"
            ],
            "text/latex": "$\\displaystyle 0.785398163397448$"
          },
          "metadata": {},
          "execution_count": 20
        }
      ]
    },
    {
      "cell_type": "markdown",
      "source": [
        "## Geometry to calculate area"
      ],
      "metadata": {
        "id": "a_Y5lWC7f5Oy"
      }
    },
    {
      "cell_type": "code",
      "source": [
        "radius = 1\n",
        "area_of_circle = np.pi * radius**2\n",
        "area_of_quadrant = area_of_circle / 4\n",
        "print(area_of_quadrant)"
      ],
      "metadata": {
        "colab": {
          "base_uri": "https://localhost:8080/"
        },
        "id": "uS1YOlxOExD7",
        "outputId": "44698baa-f982-4d00-e415-86c2578c8cfc"
      },
      "execution_count": 21,
      "outputs": [
        {
          "output_type": "stream",
          "name": "stdout",
          "text": [
            "0.7853981633974483\n"
          ]
        }
      ]
    },
    {
      "cell_type": "markdown",
      "source": [
        "## Summary"
      ],
      "metadata": {
        "id": "c5MA-K-Ig2Ws"
      }
    },
    {
      "cell_type": "code",
      "source": [
        "import pandas as pd"
      ],
      "metadata": {
        "id": "GL8Qnr0RgKzr"
      },
      "execution_count": 23,
      "outputs": []
    },
    {
      "cell_type": "code",
      "source": [
        "summary = pd.DataFrame({'Method': ['Reimann Sum', 'Reimann Sum Rect+Triangle', 'Integral Calculus', 'Geometry'],\n",
        "                        'Area': [area, area_rect_tri, result, area_of_quadrant],\n",
        "                        'Error': [abs(area - area_of_quadrant), abs(area_rect_tri - area_of_quadrant), abs(area - area_of_quadrant), 0]})\n",
        "summary.set_index('Method', inplace=True)"
      ],
      "metadata": {
        "id": "noLnHGbLg64M"
      },
      "execution_count": 82,
      "outputs": []
    },
    {
      "cell_type": "code",
      "source": [
        "summary.T"
      ],
      "metadata": {
        "colab": {
          "base_uri": "https://localhost:8080/",
          "height": 112
        },
        "id": "Yx0PCLsJhOpj",
        "outputId": "1bb7352e-9895-461d-b142-bb5291068c8c"
      },
      "execution_count": 83,
      "outputs": [
        {
          "output_type": "execute_result",
          "data": {
            "text/plain": [
              "Method          Reimann Sum Reimann Sum Rect+Triangle    Integral Calculus  \\\n",
              "Area      0.780104257944762         0.784398921145778             0.786295   \n",
              "Error   0.00529390545268660      0.000999242251670140  0.00529390545268660   \n",
              "\n",
              "Method  Geometry  \n",
              "Area    0.785398  \n",
              "Error          0  "
            ],
            "text/html": [
              "\n",
              "  <div id=\"df-fcc7dd26-09c2-481e-860d-71c235bc53dc\" class=\"colab-df-container\">\n",
              "    <div>\n",
              "<style scoped>\n",
              "    .dataframe tbody tr th:only-of-type {\n",
              "        vertical-align: middle;\n",
              "    }\n",
              "\n",
              "    .dataframe tbody tr th {\n",
              "        vertical-align: top;\n",
              "    }\n",
              "\n",
              "    .dataframe thead th {\n",
              "        text-align: right;\n",
              "    }\n",
              "</style>\n",
              "<table border=\"1\" class=\"dataframe\">\n",
              "  <thead>\n",
              "    <tr style=\"text-align: right;\">\n",
              "      <th>Method</th>\n",
              "      <th>Reimann Sum</th>\n",
              "      <th>Reimann Sum Rect+Triangle</th>\n",
              "      <th>Integral Calculus</th>\n",
              "      <th>Geometry</th>\n",
              "    </tr>\n",
              "  </thead>\n",
              "  <tbody>\n",
              "    <tr>\n",
              "      <th>Area</th>\n",
              "      <td>0.780104257944762</td>\n",
              "      <td>0.784398921145778</td>\n",
              "      <td>0.786295</td>\n",
              "      <td>0.785398</td>\n",
              "    </tr>\n",
              "    <tr>\n",
              "      <th>Error</th>\n",
              "      <td>0.00529390545268660</td>\n",
              "      <td>0.000999242251670140</td>\n",
              "      <td>0.00529390545268660</td>\n",
              "      <td>0</td>\n",
              "    </tr>\n",
              "  </tbody>\n",
              "</table>\n",
              "</div>\n",
              "    <div class=\"colab-df-buttons\">\n",
              "\n",
              "  <div class=\"colab-df-container\">\n",
              "    <button class=\"colab-df-convert\" onclick=\"convertToInteractive('df-fcc7dd26-09c2-481e-860d-71c235bc53dc')\"\n",
              "            title=\"Convert this dataframe to an interactive table.\"\n",
              "            style=\"display:none;\">\n",
              "\n",
              "  <svg xmlns=\"http://www.w3.org/2000/svg\" height=\"24px\" viewBox=\"0 -960 960 960\">\n",
              "    <path d=\"M120-120v-720h720v720H120Zm60-500h600v-160H180v160Zm220 220h160v-160H400v160Zm0 220h160v-160H400v160ZM180-400h160v-160H180v160Zm440 0h160v-160H620v160ZM180-180h160v-160H180v160Zm440 0h160v-160H620v160Z\"/>\n",
              "  </svg>\n",
              "    </button>\n",
              "\n",
              "  <style>\n",
              "    .colab-df-container {\n",
              "      display:flex;\n",
              "      gap: 12px;\n",
              "    }\n",
              "\n",
              "    .colab-df-convert {\n",
              "      background-color: #E8F0FE;\n",
              "      border: none;\n",
              "      border-radius: 50%;\n",
              "      cursor: pointer;\n",
              "      display: none;\n",
              "      fill: #1967D2;\n",
              "      height: 32px;\n",
              "      padding: 0 0 0 0;\n",
              "      width: 32px;\n",
              "    }\n",
              "\n",
              "    .colab-df-convert:hover {\n",
              "      background-color: #E2EBFA;\n",
              "      box-shadow: 0px 1px 2px rgba(60, 64, 67, 0.3), 0px 1px 3px 1px rgba(60, 64, 67, 0.15);\n",
              "      fill: #174EA6;\n",
              "    }\n",
              "\n",
              "    .colab-df-buttons div {\n",
              "      margin-bottom: 4px;\n",
              "    }\n",
              "\n",
              "    [theme=dark] .colab-df-convert {\n",
              "      background-color: #3B4455;\n",
              "      fill: #D2E3FC;\n",
              "    }\n",
              "\n",
              "    [theme=dark] .colab-df-convert:hover {\n",
              "      background-color: #434B5C;\n",
              "      box-shadow: 0px 1px 3px 1px rgba(0, 0, 0, 0.15);\n",
              "      filter: drop-shadow(0px 1px 2px rgba(0, 0, 0, 0.3));\n",
              "      fill: #FFFFFF;\n",
              "    }\n",
              "  </style>\n",
              "\n",
              "    <script>\n",
              "      const buttonEl =\n",
              "        document.querySelector('#df-fcc7dd26-09c2-481e-860d-71c235bc53dc button.colab-df-convert');\n",
              "      buttonEl.style.display =\n",
              "        google.colab.kernel.accessAllowed ? 'block' : 'none';\n",
              "\n",
              "      async function convertToInteractive(key) {\n",
              "        const element = document.querySelector('#df-fcc7dd26-09c2-481e-860d-71c235bc53dc');\n",
              "        const dataTable =\n",
              "          await google.colab.kernel.invokeFunction('convertToInteractive',\n",
              "                                                    [key], {});\n",
              "        if (!dataTable) return;\n",
              "\n",
              "        const docLinkHtml = 'Like what you see? Visit the ' +\n",
              "          '<a target=\"_blank\" href=https://colab.research.google.com/notebooks/data_table.ipynb>data table notebook</a>'\n",
              "          + ' to learn more about interactive tables.';\n",
              "        element.innerHTML = '';\n",
              "        dataTable['output_type'] = 'display_data';\n",
              "        await google.colab.output.renderOutput(dataTable, element);\n",
              "        const docLink = document.createElement('div');\n",
              "        docLink.innerHTML = docLinkHtml;\n",
              "        element.appendChild(docLink);\n",
              "      }\n",
              "    </script>\n",
              "  </div>\n",
              "\n",
              "\n",
              "<div id=\"df-3d2a1c89-c9ec-49fa-8599-9f8b41bf44b8\">\n",
              "  <button class=\"colab-df-quickchart\" onclick=\"quickchart('df-3d2a1c89-c9ec-49fa-8599-9f8b41bf44b8')\"\n",
              "            title=\"Suggest charts\"\n",
              "            style=\"display:none;\">\n",
              "\n",
              "<svg xmlns=\"http://www.w3.org/2000/svg\" height=\"24px\"viewBox=\"0 0 24 24\"\n",
              "     width=\"24px\">\n",
              "    <g>\n",
              "        <path d=\"M19 3H5c-1.1 0-2 .9-2 2v14c0 1.1.9 2 2 2h14c1.1 0 2-.9 2-2V5c0-1.1-.9-2-2-2zM9 17H7v-7h2v7zm4 0h-2V7h2v10zm4 0h-2v-4h2v4z\"/>\n",
              "    </g>\n",
              "</svg>\n",
              "  </button>\n",
              "\n",
              "<style>\n",
              "  .colab-df-quickchart {\n",
              "      --bg-color: #E8F0FE;\n",
              "      --fill-color: #1967D2;\n",
              "      --hover-bg-color: #E2EBFA;\n",
              "      --hover-fill-color: #174EA6;\n",
              "      --disabled-fill-color: #AAA;\n",
              "      --disabled-bg-color: #DDD;\n",
              "  }\n",
              "\n",
              "  [theme=dark] .colab-df-quickchart {\n",
              "      --bg-color: #3B4455;\n",
              "      --fill-color: #D2E3FC;\n",
              "      --hover-bg-color: #434B5C;\n",
              "      --hover-fill-color: #FFFFFF;\n",
              "      --disabled-bg-color: #3B4455;\n",
              "      --disabled-fill-color: #666;\n",
              "  }\n",
              "\n",
              "  .colab-df-quickchart {\n",
              "    background-color: var(--bg-color);\n",
              "    border: none;\n",
              "    border-radius: 50%;\n",
              "    cursor: pointer;\n",
              "    display: none;\n",
              "    fill: var(--fill-color);\n",
              "    height: 32px;\n",
              "    padding: 0;\n",
              "    width: 32px;\n",
              "  }\n",
              "\n",
              "  .colab-df-quickchart:hover {\n",
              "    background-color: var(--hover-bg-color);\n",
              "    box-shadow: 0 1px 2px rgba(60, 64, 67, 0.3), 0 1px 3px 1px rgba(60, 64, 67, 0.15);\n",
              "    fill: var(--button-hover-fill-color);\n",
              "  }\n",
              "\n",
              "  .colab-df-quickchart-complete:disabled,\n",
              "  .colab-df-quickchart-complete:disabled:hover {\n",
              "    background-color: var(--disabled-bg-color);\n",
              "    fill: var(--disabled-fill-color);\n",
              "    box-shadow: none;\n",
              "  }\n",
              "\n",
              "  .colab-df-spinner {\n",
              "    border: 2px solid var(--fill-color);\n",
              "    border-color: transparent;\n",
              "    border-bottom-color: var(--fill-color);\n",
              "    animation:\n",
              "      spin 1s steps(1) infinite;\n",
              "  }\n",
              "\n",
              "  @keyframes spin {\n",
              "    0% {\n",
              "      border-color: transparent;\n",
              "      border-bottom-color: var(--fill-color);\n",
              "      border-left-color: var(--fill-color);\n",
              "    }\n",
              "    20% {\n",
              "      border-color: transparent;\n",
              "      border-left-color: var(--fill-color);\n",
              "      border-top-color: var(--fill-color);\n",
              "    }\n",
              "    30% {\n",
              "      border-color: transparent;\n",
              "      border-left-color: var(--fill-color);\n",
              "      border-top-color: var(--fill-color);\n",
              "      border-right-color: var(--fill-color);\n",
              "    }\n",
              "    40% {\n",
              "      border-color: transparent;\n",
              "      border-right-color: var(--fill-color);\n",
              "      border-top-color: var(--fill-color);\n",
              "    }\n",
              "    60% {\n",
              "      border-color: transparent;\n",
              "      border-right-color: var(--fill-color);\n",
              "    }\n",
              "    80% {\n",
              "      border-color: transparent;\n",
              "      border-right-color: var(--fill-color);\n",
              "      border-bottom-color: var(--fill-color);\n",
              "    }\n",
              "    90% {\n",
              "      border-color: transparent;\n",
              "      border-bottom-color: var(--fill-color);\n",
              "    }\n",
              "  }\n",
              "</style>\n",
              "\n",
              "  <script>\n",
              "    async function quickchart(key) {\n",
              "      const quickchartButtonEl =\n",
              "        document.querySelector('#' + key + ' button');\n",
              "      quickchartButtonEl.disabled = true;  // To prevent multiple clicks.\n",
              "      quickchartButtonEl.classList.add('colab-df-spinner');\n",
              "      try {\n",
              "        const charts = await google.colab.kernel.invokeFunction(\n",
              "            'suggestCharts', [key], {});\n",
              "      } catch (error) {\n",
              "        console.error('Error during call to suggestCharts:', error);\n",
              "      }\n",
              "      quickchartButtonEl.classList.remove('colab-df-spinner');\n",
              "      quickchartButtonEl.classList.add('colab-df-quickchart-complete');\n",
              "    }\n",
              "    (() => {\n",
              "      let quickchartButtonEl =\n",
              "        document.querySelector('#df-3d2a1c89-c9ec-49fa-8599-9f8b41bf44b8 button');\n",
              "      quickchartButtonEl.style.display =\n",
              "        google.colab.kernel.accessAllowed ? 'block' : 'none';\n",
              "    })();\n",
              "  </script>\n",
              "</div>\n",
              "\n",
              "    </div>\n",
              "  </div>\n"
            ],
            "application/vnd.google.colaboratory.intrinsic+json": {
              "type": "dataframe",
              "summary": "{\n  \"name\": \"summary\",\n  \"rows\": 2,\n  \"fields\": [\n    {\n      \"column\": \"Reimann Sum\",\n      \"properties\": {\n        \"dtype\": \"string\",\n        \"num_unique_values\": 2,\n        \"samples\": [\n          \"0.00529390545268660\",\n          \"0.780104257944762\"\n        ],\n        \"semantic_type\": \"\",\n        \"description\": \"\"\n      }\n    },\n    {\n      \"column\": \"Reimann Sum Rect+Triangle\",\n      \"properties\": {\n        \"dtype\": \"string\",\n        \"num_unique_values\": 2,\n        \"samples\": [\n          \"0.000999242251670140\",\n          \"0.784398921145778\"\n        ],\n        \"semantic_type\": \"\",\n        \"description\": \"\"\n      }\n    },\n    {\n      \"column\": \"Integral Calculus\",\n      \"properties\": {\n        \"dtype\": \"string\",\n        \"num_unique_values\": 2,\n        \"samples\": [\n          \"0.00529390545268660\",\n          0.7862954439173373\n        ],\n        \"semantic_type\": \"\",\n        \"description\": \"\"\n      }\n    },\n    {\n      \"column\": \"Geometry\",\n      \"properties\": {\n        \"dtype\": \"date\",\n        \"min\": 0,\n        \"max\": 0.7853981633974483,\n        \"num_unique_values\": 2,\n        \"samples\": [\n          0,\n          0.7853981633974483\n        ],\n        \"semantic_type\": \"\",\n        \"description\": \"\"\n      }\n    }\n  ]\n}"
            }
          },
          "metadata": {},
          "execution_count": 83
        }
      ]
    },
    {
      "cell_type": "code",
      "source": [],
      "metadata": {
        "id": "92s57jwYbT2N"
      },
      "execution_count": null,
      "outputs": []
    }
  ]
}