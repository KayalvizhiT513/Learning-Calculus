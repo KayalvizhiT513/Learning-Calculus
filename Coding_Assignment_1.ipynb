{
  "nbformat": 4,
  "nbformat_minor": 0,
  "metadata": {
    "colab": {
      "provenance": [],
      "authorship_tag": "ABX9TyOsrd5FqV5eSBXGS5Px6QjG",
      "include_colab_link": true
    },
    "kernelspec": {
      "name": "python3",
      "display_name": "Python 3"
    },
    "language_info": {
      "name": "python"
    }
  },
  "cells": [
    {
      "cell_type": "markdown",
      "metadata": {
        "id": "view-in-github",
        "colab_type": "text"
      },
      "source": [
        "<a href=\"https://colab.research.google.com/github/KayalvizhiT513/Learning-Calculus/blob/main/Coding_Assignment_1.ipynb\" target=\"_parent\"><img src=\"https://colab.research.google.com/assets/colab-badge.svg\" alt=\"Open In Colab\"/></a>"
      ]
    },
    {
      "cell_type": "markdown",
      "source": [
        "**Equation of circle:**\n",
        "$x^2 + y^2 = 1$<br>\n",
        "To find the area under the curve in the first quadrant:\n",
        "\n",
        "* **Method1:** Using Reimann Sum\n",
        "  * Step 1: Divide the area between the points **a** and **b** under the curve into **n** slices of same width\n",
        "  * Step 2: Calculate sum of the area of the each of the small slices by finding the product of width of a slice and height of the slice\n",
        "    * width: Δ = (b - a)/n, here a = 0 and b = 1, therefore width, Δ = 1/n\n",
        "    * height: y <br>\n",
        "  $$Area = \\lim_{Δ \\to 0} \\sum_{i=1}^{n} f(x_i).Δ$$\n",
        "* **Method2:** Using Integral calculus\n",
        "  * Step 1: Rewrite circle equation as $y = \\sqrt{1 - x^2}$\n",
        "  * Step 2: Integrate as x varies between 0 and 1,\n",
        "  $$Area = \\int_{0}^{1}\\sqrt{1 - x^2}dx$$\n",
        "* **Method3:** Using Geometry\n",
        "  * Area of a quadrant = Area of Circle / 4 = $πr^2 / 4$\n",
        "  * Given radius = 1, area of quadrant = $π/4$\n"
      ],
      "metadata": {
        "id": "rZhkxCCIJtjo"
      }
    },
    {
      "cell_type": "markdown",
      "source": [
        "## Reimann Sum to calculate area"
      ],
      "metadata": {
        "id": "XVGzx6S0Bj9q"
      }
    },
    {
      "cell_type": "code",
      "source": [
        "from sympy import *"
      ],
      "metadata": {
        "id": "pTp4JDFw-zNC"
      },
      "execution_count": 103,
      "outputs": []
    },
    {
      "cell_type": "code",
      "source": [
        "# Initialize pretty printing for sympy expressions\n",
        "init_printing(use_unicode=False)"
      ],
      "metadata": {
        "id": "inonuM21Ad5l"
      },
      "execution_count": 104,
      "outputs": []
    },
    {
      "cell_type": "code",
      "source": [
        "# Define the symbol 'x' for symbolic computation\n",
        "x = Symbol('x')"
      ],
      "metadata": {
        "id": "8BNQvnHkAhsX"
      },
      "execution_count": 105,
      "outputs": []
    },
    {
      "cell_type": "code",
      "source": [
        "# Define the function y = sqrt(1 - x^2)\n",
        "y = (1 - x**2)**(1/2)"
      ],
      "metadata": {
        "id": "mztD2XJIAnhf"
      },
      "execution_count": 106,
      "outputs": []
    },
    {
      "cell_type": "code",
      "source": [
        "y"
      ],
      "metadata": {
        "colab": {
          "base_uri": "https://localhost:8080/",
          "height": 42
        },
        "id": "0xVzv8ye6PWy",
        "outputId": "d9ae075f-8b4f-4f36-bbab-2a413b423c3a"
      },
      "execution_count": 107,
      "outputs": [
        {
          "output_type": "execute_result",
          "data": {
            "text/plain": [
              "        0.5\n",
              "/     2\\   \n",
              "\\1 - x /   "
            ],
            "text/latex": "$\\displaystyle \\left(1 - x^{2}\\right)^{0.5}$"
          },
          "metadata": {},
          "execution_count": 107
        }
      ]
    },
    {
      "cell_type": "code",
      "source": [
        "def reimann_sum(y_func, n, a, b):\n",
        "    # define the width of each subinterval as delta_x\n",
        "    delta_x = (b - a) / n\n",
        "    sum = 0\n",
        "    for i in range(1, n+1):\n",
        "        # calculate the area of each subinterval and add it to the sum\n",
        "        sum += y_func.subs(x, a + i * delta_x) * delta_x\n",
        "    return sum"
      ],
      "metadata": {
        "id": "xqf8lWnz76Xz"
      },
      "execution_count": 108,
      "outputs": []
    },
    {
      "cell_type": "code",
      "source": [
        "area = reimann_sum(y, 100, 0, 1)\n",
        "area"
      ],
      "metadata": {
        "colab": {
          "base_uri": "https://localhost:8080/",
          "height": 37
        },
        "id": "ecQyFVR786LC",
        "outputId": "0aa5c98c-3dba-498c-e695-92bc9e536eaa"
      },
      "execution_count": 109,
      "outputs": [
        {
          "output_type": "execute_result",
          "data": {
            "text/plain": [
              "0.780104257944762"
            ],
            "text/latex": "$\\displaystyle 0.780104257944762$"
          },
          "metadata": {},
          "execution_count": 109
        }
      ]
    },
    {
      "cell_type": "code",
      "source": [
        "import numpy as np\n",
        "from matplotlib import pyplot as plt"
      ],
      "metadata": {
        "id": "l-Yby4tJ9BgJ"
      },
      "execution_count": 110,
      "outputs": []
    },
    {
      "cell_type": "code",
      "source": [
        "# Create a list of 'n' values ranging from 5 to 500, incremented by 5\n",
        "x_vals = [i for i in range(5, 501, 5)]"
      ],
      "metadata": {
        "id": "7yM0UsLtClXZ"
      },
      "execution_count": 111,
      "outputs": []
    },
    {
      "cell_type": "code",
      "source": [
        "# Compute the Riemann sum for each value of n in x_vals\n",
        "area_vals = [area for area in map(lambda n: reimann_sum(y, n, 0, 1), x_vals)]"
      ],
      "metadata": {
        "id": "m4OHxhNG-3Ez"
      },
      "execution_count": 112,
      "outputs": []
    },
    {
      "cell_type": "code",
      "source": [
        "# Plot the Riemann sum approximations as a function of 'n'\n",
        "plt.plot(x_vals, area_vals)\n",
        "plt.xlabel('n')\n",
        "plt.ylabel('area')\n",
        "plt.show()"
      ],
      "metadata": {
        "colab": {
          "base_uri": "https://localhost:8080/",
          "height": 449
        },
        "id": "Y0WoA3GXC1i_",
        "outputId": "0aaa8a22-52d4-4a9e-fc6a-57149b06fec4"
      },
      "execution_count": 113,
      "outputs": [
        {
          "output_type": "display_data",
          "data": {
            "text/plain": [
              "<Figure size 640x480 with 1 Axes>"
            ],
            "image/png": "[encoded data removed]"
          },
          "metadata": {}
        }
      ]
    },
    {
      "cell_type": "code",
      "source": [
        "# Plot Error vs n\n",
        "error_vals = [abs(area - area_of_quadrant) for area in area_vals]\n",
        "plt.plot(x_vals, error_vals)\n",
        "plt.xlabel('n')\n",
        "plt.ylabel('error')\n",
        "plt.show()"
      ],
      "metadata": {
        "colab": {
          "base_uri": "https://localhost:8080/",
          "height": 449
        },
        "id": "iKh4DdsEik6e",
        "outputId": "bbb9d4b5-9ec2-4959-b9b6-25f9a43201ee"
      },
      "execution_count": 124,
      "outputs": [
        {
          "output_type": "display_data",
          "data": {
            "text/plain": [
              "<Figure size 640x480 with 1 Axes>"
            ],
            "image/png": "[encoded data removed]"
          },
          "metadata": {}
        }
      ]
    },
    {
      "cell_type": "markdown",
      "source": [
        "## Integral calculus to calculate area"
      ],
      "metadata": {
        "id": "D8UFeUJfBMad"
      }
    },
    {
      "cell_type": "code",
      "execution_count": 114,
      "metadata": {
        "id": "cZ2yhKQD-XfO"
      },
      "outputs": [],
      "source": [
        "from scipy import integrate"
      ]
    },
    {
      "cell_type": "code",
      "source": [
        "# Defining y in terms of x as f(x)\n",
        "def func(x): return (1 - x**2)**(1/2)"
      ],
      "metadata": {
        "id": "02DqwDyR-axR"
      },
      "execution_count": 115,
      "outputs": []
    },
    {
      "cell_type": "code",
      "source": [
        "# Calculating the integration of f(x) with limits 0 and 1\n",
        "result = integrate.fixed_quad(func, 0, 1, n=5)[0]"
      ],
      "metadata": {
        "id": "hLYJgrNF-cVh"
      },
      "execution_count": 116,
      "outputs": []
    },
    {
      "cell_type": "code",
      "source": [
        "print(result)"
      ],
      "metadata": {
        "colab": {
          "base_uri": "https://localhost:8080/"
        },
        "id": "_az6MOyu-dsx",
        "outputId": "e2962057-6a8f-48df-86ea-04dbaf8b5680"
      },
      "execution_count": 117,
      "outputs": [
        {
          "output_type": "stream",
          "name": "stdout",
          "text": [
            "0.7862954439173373\n"
          ]
        }
      ]
    },
    {
      "cell_type": "markdown",
      "source": [
        "Integrating $\\int_0^1 \\sqrt{1 - x^2} dx$\n",
        "1. **The Integral:**\n",
        "   $\n",
        "   I = \\int_0^1 \\sqrt{1 - x^2} \\, dx\n",
        "   $\n",
        "\n",
        "2. **Substitute $ x = \\sin \\theta $:**\n",
        "\n",
        "   We use the substitution $ x = \\sin \\theta $, hence $ dx = \\cos \\theta \\, d\\theta $. Also, when $ x = 0 $, $ \\theta = 0 $, and when $ x = 1 $, $ \\theta = \\frac{\\pi}{2} $.\n",
        "   \n",
        "   $$\n",
        "   I = \\int_0^{\\frac{\\pi}{2}} \\sqrt{1 - \\sin^2 \\theta} \\cdot \\cos \\theta \\, d\\theta\n",
        "   $$\n",
        "\n",
        "3. **Simplify Using the Identity $ \\sqrt{1 - \\sin^2 \\theta} = \\cos \\theta $:**\n",
        "\n",
        "   Using the Pythagorean identity $ \\sqrt{1 - \\sin^2 \\theta} = \\cos \\theta $, the integral simplifies to:\n",
        "   \n",
        "   $$\n",
        "   I = \\int_0^{\\frac{\\pi}{2}} \\cos^2 \\theta \\, d\\theta\n",
        "   $$\n",
        "\n",
        "4. **Use the Double Angle Identity for $ \\cos^2 \\theta $:**\n",
        "\n",
        "   Recall the identity $ \\cos^2 \\theta = \\frac{1 + \\cos 2\\theta}{2} $. Thus, the integral becomes:\n",
        "   \n",
        "   $$\n",
        "   I = \\int_0^{\\frac{\\pi}{2}} \\frac{1 + \\cos 2\\theta}{2} \\, d\\theta\n",
        "   $$\n",
        "\n",
        "5. **Split the Integral:**\n",
        "\n",
        "   Now, split the integral into two parts:\n",
        "   \n",
        "   $$\n",
        "   I = \\frac{1}{2} \\int_0^{\\frac{\\pi}{2}} 1 \\, d\\theta + \\frac{1}{2} \\int_0^{\\frac{\\pi}{2}} \\cos 2\\theta \\, d\\theta\n",
        "   $$\n",
        "\n",
        "6. **Evaluate the First Integral:**\n",
        "\n",
        "   The first integral is straightforward:\n",
        "   \n",
        "   $$\n",
        "   \\frac{1}{2} \\int_0^{\\frac{\\pi}{2}} 1 \\, d\\theta = \\frac{1}{2} \\cdot \\frac{\\pi}{2} = \\frac{\\pi}{4}\n",
        "   $$\n",
        "\n",
        "7. **Evaluate the Second Integral:**\n",
        "\n",
        "   The second integral can be evaluated as follows:\n",
        "   \n",
        "   $$\n",
        "   \\frac{1}{2} \\int_0^{\\frac{\\pi}{2}} \\cos 2\\theta \\, d\\theta = \\frac{1}{2} \\cdot \\left[ \\frac{\\sin 2\\theta}{2} \\right]_0^{\\frac{\\pi}{2}} = \\frac{1}{2} \\cdot 0 = 0\n",
        "   $$\n",
        "\n",
        "8. **Final Answer:**\n",
        "\n",
        "   Combining both results, the value of the integral is:\n",
        "   \n",
        "   $$\n",
        "   I = \\frac{\\pi}{4}\n",
        "   $$\n",
        "\n",
        "Thus, the integral $ \\int_0^1 \\sqrt{1 - x^2} \\, dx = \\frac{\\pi}{4} $."
      ],
      "metadata": {
        "id": "UmAjxhTnaoQq"
      }
    },
    {
      "cell_type": "code",
      "source": [
        "import numpy as np"
      ],
      "metadata": {
        "id": "Wjo992f2-u_B"
      },
      "execution_count": 118,
      "outputs": []
    },
    {
      "cell_type": "code",
      "source": [
        "np.pi/4"
      ],
      "metadata": {
        "colab": {
          "base_uri": "https://localhost:8080/",
          "height": 37
        },
        "id": "TCghwera-xfq",
        "outputId": "0be6708a-d7af-4538-e102-f2b210a22772"
      },
      "execution_count": 119,
      "outputs": [
        {
          "output_type": "execute_result",
          "data": {
            "text/plain": [
              "0.7853981633974483"
            ],
            "text/latex": "$\\displaystyle 0.785398163397448$"
          },
          "metadata": {},
          "execution_count": 119
        }
      ]
    },
    {
      "cell_type": "markdown",
      "source": [
        "## Geometry to calculate area"
      ],
      "metadata": {
        "id": "a_Y5lWC7f5Oy"
      }
    },
    {
      "cell_type": "code",
      "source": [
        "radius = 1\n",
        "area_of_circle = np.pi * radius**2\n",
        "area_of_quadrant = area_of_circle / 4\n",
        "print(area_of_quadrant)"
      ],
      "metadata": {
        "colab": {
          "base_uri": "https://localhost:8080/"
        },
        "id": "uS1YOlxOExD7",
        "outputId": "40be92ce-25fb-4bef-8bab-4da68fd94625"
      },
      "execution_count": 120,
      "outputs": [
        {
          "output_type": "stream",
          "name": "stdout",
          "text": [
            "0.7853981633974483\n"
          ]
        }
      ]
    },
    {
      "cell_type": "markdown",
      "source": [
        "## Summary"
      ],
      "metadata": {
        "id": "c5MA-K-Ig2Ws"
      }
    },
    {
      "cell_type": "code",
      "source": [
        "import pandas as pd"
      ],
      "metadata": {
        "id": "GL8Qnr0RgKzr"
      },
      "execution_count": 121,
      "outputs": []
    },
    {
      "cell_type": "code",
      "source": [
        "summary = pd.DataFrame({'Method': ['Reimann Sum', 'Integral Calculus', 'Geometry'],\n",
        "                        'Area': [area, result, area_of_quadrant],\n",
        "                        'Error': [abs(area - area_of_quadrant), abs(area - area_of_quadrant), 0]})\n",
        "summary.set_index('Method', inplace=True)"
      ],
      "metadata": {
        "id": "noLnHGbLg64M"
      },
      "execution_count": 122,
      "outputs": []
    },
    {
      "cell_type": "code",
      "source": [
        "summary.T"
      ],
      "metadata": {
        "colab": {
          "base_uri": "https://localhost:8080/",
          "height": 112
        },
        "id": "Yx0PCLsJhOpj",
        "outputId": "6c51524c-9ed6-443d-f31e-e420013b7744"
      },
      "execution_count": 123,
      "outputs": [
        {
          "output_type": "execute_result",
          "data": {
            "text/plain": [
              "Method          Reimann Sum    Integral Calculus  Geometry\n",
              "Area      0.780104257944762             0.786295  0.785398\n",
              "Error   0.00529390545268660  0.00529390545268660         0"
            ],
            "text/html": [
              "\n",
              "  <div id=\"df-0f44db2c-8753-4046-b3e3-fd38ee3d6b3d\" class=\"colab-df-container\">\n",
              "    <div>\n",
              "<style scoped>\n",
              "    .dataframe tbody tr th:only-of-type {\n",
              "        vertical-align: middle;\n",
              "    }\n",
              "\n",
              "    .dataframe tbody tr th {\n",
              "        vertical-align: top;\n",
              "    }\n",
              "\n",
              "    .dataframe thead th {\n",
              "        text-align: right;\n",
              "    }\n",
              "</style>\n",
              "<table border=\"1\" class=\"dataframe\">\n",
              "  <thead>\n",
              "    <tr style=\"text-align: right;\">\n",
              "      <th>Method</th>\n",
              "      <th>Reimann Sum</th>\n",
              "      <th>Integral Calculus</th>\n",
              "      <th>Geometry</th>\n",
              "    </tr>\n",
              "  </thead>\n",
              "  <tbody>\n",
              "    <tr>\n",
              "      <th>Area</th>\n",
              "      <td>0.780104257944762</td>\n",
              "      <td>0.786295</td>\n",
              "      <td>0.785398</td>\n",
              "    </tr>\n",
              "    <tr>\n",
              "      <th>Error</th>\n",
              "      <td>0.00529390545268660</td>\n",
              "      <td>0.00529390545268660</td>\n",
              "      <td>0</td>\n",
              "    </tr>\n",
              "  </tbody>\n",
              "</table>\n",
              "</div>\n",
              "    <div class=\"colab-df-buttons\">\n",
              "\n",
              "  <div class=\"colab-df-container\">\n",
              "    <button class=\"colab-df-convert\" onclick=\"convertToInteractive('df-0f44db2c-8753-4046-b3e3-fd38ee3d6b3d')\"\n",
              "            title=\"Convert this dataframe to an interactive table.\"\n",
              "            style=\"display:none;\">\n",
              "\n",
              "  <svg xmlns=\"http://www.w3.org/2000/svg\" height=\"24px\" viewBox=\"0 -960 960 960\">\n",
              "    <path d=\"M120-120v-720h720v720H120Zm60-500h600v-160H180v160Zm220 220h160v-160H400v160Zm0 220h160v-160H400v160ZM180-400h160v-160H180v160Zm440 0h160v-160H620v160ZM180-180h160v-160H180v160Zm440 0h160v-160H620v160Z\"/>\n",
              "  </svg>\n",
              "    </button>\n",
              "\n",
              "  <style>\n",
              "    .colab-df-container {\n",
              "      display:flex;\n",
              "      gap: 12px;\n",
              "    }\n",
              "\n",
              "    .colab-df-convert {\n",
              "      background-color: #E8F0FE;\n",
              "      border: none;\n",
              "      border-radius: 50%;\n",
              "      cursor: pointer;\n",
              "      display: none;\n",
              "      fill: #1967D2;\n",
              "      height: 32px;\n",
              "      padding: 0 0 0 0;\n",
              "      width: 32px;\n",
              "    }\n",
              "\n",
              "    .colab-df-convert:hover {\n",
              "      background-color: #E2EBFA;\n",
              "      box-shadow: 0px 1px 2px rgba(60, 64, 67, 0.3), 0px 1px 3px 1px rgba(60, 64, 67, 0.15);\n",
              "      fill: #174EA6;\n",
              "    }\n",
              "\n",
              "    .colab-df-buttons div {\n",
              "      margin-bottom: 4px;\n",
              "    }\n",
              "\n",
              "    [theme=dark] .colab-df-convert {\n",
              "      background-color: #3B4455;\n",
              "      fill: #D2E3FC;\n",
              "    }\n",
              "\n",
              "    [theme=dark] .colab-df-convert:hover {\n",
              "      background-color: #434B5C;\n",
              "      box-shadow: 0px 1px 3px 1px rgba(0, 0, 0, 0.15);\n",
              "      filter: drop-shadow(0px 1px 2px rgba(0, 0, 0, 0.3));\n",
              "      fill: #FFFFFF;\n",
              "    }\n",
              "  </style>\n",
              "\n",
              "    <script>\n",
              "      const buttonEl =\n",
              "        document.querySelector('#df-0f44db2c-8753-4046-b3e3-fd38ee3d6b3d button.colab-df-convert');\n",
              "      buttonEl.style.display =\n",
              "        google.colab.kernel.accessAllowed ? 'block' : 'none';\n",
              "\n",
              "      async function convertToInteractive(key) {\n",
              "        const element = document.querySelector('#df-0f44db2c-8753-4046-b3e3-fd38ee3d6b3d');\n",
              "        const dataTable =\n",
              "          await google.colab.kernel.invokeFunction('convertToInteractive',\n",
              "                                                    [key], {});\n",
              "        if (!dataTable) return;\n",
              "\n",
              "        const docLinkHtml = 'Like what you see? Visit the ' +\n",
              "          '<a target=\"_blank\" href=https://colab.research.google.com/notebooks/data_table.ipynb>data table notebook</a>'\n",
              "          + ' to learn more about interactive tables.';\n",
              "        element.innerHTML = '';\n",
              "        dataTable['output_type'] = 'display_data';\n",
              "        await google.colab.output.renderOutput(dataTable, element);\n",
              "        const docLink = document.createElement('div');\n",
              "        docLink.innerHTML = docLinkHtml;\n",
              "        element.appendChild(docLink);\n",
              "      }\n",
              "    </script>\n",
              "  </div>\n",
              "\n",
              "\n",
              "<div id=\"df-cc641b8e-637d-48b6-8108-070e5fa08594\">\n",
              "  <button class=\"colab-df-quickchart\" onclick=\"quickchart('df-cc641b8e-637d-48b6-8108-070e5fa08594')\"\n",
              "            title=\"Suggest charts\"\n",
              "            style=\"display:none;\">\n",
              "\n",
              "<svg xmlns=\"http://www.w3.org/2000/svg\" height=\"24px\"viewBox=\"0 0 24 24\"\n",
              "     width=\"24px\">\n",
              "    <g>\n",
              "        <path d=\"M19 3H5c-1.1 0-2 .9-2 2v14c0 1.1.9 2 2 2h14c1.1 0 2-.9 2-2V5c0-1.1-.9-2-2-2zM9 17H7v-7h2v7zm4 0h-2V7h2v10zm4 0h-2v-4h2v4z\"/>\n",
              "    </g>\n",
              "</svg>\n",
              "  </button>\n",
              "\n",
              "<style>\n",
              "  .colab-df-quickchart {\n",
              "      --bg-color: #E8F0FE;\n",
              "      --fill-color: #1967D2;\n",
              "      --hover-bg-color: #E2EBFA;\n",
              "      --hover-fill-color: #174EA6;\n",
              "      --disabled-fill-color: #AAA;\n",
              "      --disabled-bg-color: #DDD;\n",
              "  }\n",
              "\n",
              "  [theme=dark] .colab-df-quickchart {\n",
              "      --bg-color: #3B4455;\n",
              "      --fill-color: #D2E3FC;\n",
              "      --hover-bg-color: #434B5C;\n",
              "      --hover-fill-color: #FFFFFF;\n",
              "      --disabled-bg-color: #3B4455;\n",
              "      --disabled-fill-color: #666;\n",
              "  }\n",
              "\n",
              "  .colab-df-quickchart {\n",
              "    background-color: var(--bg-color);\n",
              "    border: none;\n",
              "    border-radius: 50%;\n",
              "    cursor: pointer;\n",
              "    display: none;\n",
              "    fill: var(--fill-color);\n",
              "    height: 32px;\n",
              "    padding: 0;\n",
              "    width: 32px;\n",
              "  }\n",
              "\n",
              "  .colab-df-quickchart:hover {\n",
              "    background-color: var(--hover-bg-color);\n",
              "    box-shadow: 0 1px 2px rgba(60, 64, 67, 0.3), 0 1px 3px 1px rgba(60, 64, 67, 0.15);\n",
              "    fill: var(--button-hover-fill-color);\n",
              "  }\n",
              "\n",
              "  .colab-df-quickchart-complete:disabled,\n",
              "  .colab-df-quickchart-complete:disabled:hover {\n",
              "    background-color: var(--disabled-bg-color);\n",
              "    fill: var(--disabled-fill-color);\n",
              "    box-shadow: none;\n",
              "  }\n",
              "\n",
              "  .colab-df-spinner {\n",
              "    border: 2px solid var(--fill-color);\n",
              "    border-color: transparent;\n",
              "    border-bottom-color: var(--fill-color);\n",
              "    animation:\n",
              "      spin 1s steps(1) infinite;\n",
              "  }\n",
              "\n",
              "  @keyframes spin {\n",
              "    0% {\n",
              "      border-color: transparent;\n",
              "      border-bottom-color: var(--fill-color);\n",
              "      border-left-color: var(--fill-color);\n",
              "    }\n",
              "    20% {\n",
              "      border-color: transparent;\n",
              "      border-left-color: var(--fill-color);\n",
              "      border-top-color: var(--fill-color);\n",
              "    }\n",
              "    30% {\n",
              "      border-color: transparent;\n",
              "      border-left-color: var(--fill-color);\n",
              "      border-top-color: var(--fill-color);\n",
              "      border-right-color: var(--fill-color);\n",
              "    }\n",
              "    40% {\n",
              "      border-color: transparent;\n",
              "      border-right-color: var(--fill-color);\n",
              "      border-top-color: var(--fill-color);\n",
              "    }\n",
              "    60% {\n",
              "      border-color: transparent;\n",
              "      border-right-color: var(--fill-color);\n",
              "    }\n",
              "    80% {\n",
              "      border-color: transparent;\n",
              "      border-right-color: var(--fill-color);\n",
              "      border-bottom-color: var(--fill-color);\n",
              "    }\n",
              "    90% {\n",
              "      border-color: transparent;\n",
              "      border-bottom-color: var(--fill-color);\n",
              "    }\n",
              "  }\n",
              "</style>\n",
              "\n",
              "  <script>\n",
              "    async function quickchart(key) {\n",
              "      const quickchartButtonEl =\n",
              "        document.querySelector('#' + key + ' button');\n",
              "      quickchartButtonEl.disabled = true;  // To prevent multiple clicks.\n",
              "      quickchartButtonEl.classList.add('colab-df-spinner');\n",
              "      try {\n",
              "        const charts = await google.colab.kernel.invokeFunction(\n",
              "            'suggestCharts', [key], {});\n",
              "      } catch (error) {\n",
              "        console.error('Error during call to suggestCharts:', error);\n",
              "      }\n",
              "      quickchartButtonEl.classList.remove('colab-df-spinner');\n",
              "      quickchartButtonEl.classList.add('colab-df-quickchart-complete');\n",
              "    }\n",
              "    (() => {\n",
              "      let quickchartButtonEl =\n",
              "        document.querySelector('#df-cc641b8e-637d-48b6-8108-070e5fa08594 button');\n",
              "      quickchartButtonEl.style.display =\n",
              "        google.colab.kernel.accessAllowed ? 'block' : 'none';\n",
              "    })();\n",
              "  </script>\n",
              "</div>\n",
              "\n",
              "    </div>\n",
              "  </div>\n"
            ],
            "application/vnd.google.colaboratory.intrinsic+json": {
              "type": "dataframe",
              "summary": "{\n  \"name\": \"summary\",\n  \"rows\": 2,\n  \"fields\": [\n    {\n      \"column\": \"Reimann Sum\",\n      \"properties\": {\n        \"dtype\": \"string\",\n        \"num_unique_values\": 2,\n        \"samples\": [\n          \"0.00529390545268660\",\n          \"0.780104257944762\"\n        ],\n        \"semantic_type\": \"\",\n        \"description\": \"\"\n      }\n    },\n    {\n      \"column\": \"Integral Calculus\",\n      \"properties\": {\n        \"dtype\": \"string\",\n        \"num_unique_values\": 2,\n        \"samples\": [\n          \"0.00529390545268660\",\n          0.7862954439173373\n        ],\n        \"semantic_type\": \"\",\n        \"description\": \"\"\n      }\n    },\n    {\n      \"column\": \"Geometry\",\n      \"properties\": {\n        \"dtype\": \"date\",\n        \"min\": 0,\n        \"max\": 0.7853981633974483,\n        \"num_unique_values\": 2,\n        \"samples\": [\n          0,\n          0.7853981633974483\n        ],\n        \"semantic_type\": \"\",\n        \"description\": \"\"\n      }\n    }\n  ]\n}"
            }
          },
          "metadata": {},
          "execution_count": 123
        }
      ]
    },
    {
      "cell_type": "code",
      "source": [],
      "metadata": {
        "id": "HHEkE38HhQNC"
      },
      "execution_count": 123,
      "outputs": []
    }
  ]
}