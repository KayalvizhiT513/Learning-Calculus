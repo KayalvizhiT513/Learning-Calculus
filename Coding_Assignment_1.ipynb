{
  "nbformat": 4,
  "nbformat_minor": 0,
  "metadata": {
    "colab": {
      "provenance": [],
      "authorship_tag": "ABX9TyN3mNOWPFlK0RbBVUD+RXPo",
      "include_colab_link": true
    },
    "kernelspec": {
      "name": "python3",
      "display_name": "Python 3"
    },
    "language_info": {
      "name": "python"
    }
  },
  "cells": [
    {
      "cell_type": "markdown",
      "metadata": {
        "id": "view-in-github",
        "colab_type": "text"
      },
      "source": [
        "<a href=\"https://colab.research.google.com/github/KayalvizhiT513/Learning-Calculus/blob/main/Coding_Assignment_1.ipynb\" target=\"_parent\"><img src=\"https://colab.research.google.com/assets/colab-badge.svg\" alt=\"Open In Colab\"/></a>"
      ]
    },
    {
      "cell_type": "markdown",
      "source": [
        "## Integral calculus to calculate area"
      ],
      "metadata": {
        "id": "D8UFeUJfBMad"
      }
    },
    {
      "cell_type": "code",
      "execution_count": 37,
      "metadata": {
        "id": "cZ2yhKQD-XfO"
      },
      "outputs": [],
      "source": [
        "from scipy import integrate"
      ]
    },
    {
      "cell_type": "code",
      "source": [
        "def func(x): return (1 - x**2)**(1/2)"
      ],
      "metadata": {
        "id": "02DqwDyR-axR"
      },
      "execution_count": 38,
      "outputs": []
    },
    {
      "cell_type": "code",
      "source": [
        "result = integrate.fixed_quad(func, 0, 1, n=5)[0]"
      ],
      "metadata": {
        "id": "hLYJgrNF-cVh"
      },
      "execution_count": 39,
      "outputs": []
    },
    {
      "cell_type": "code",
      "source": [
        "print(result)"
      ],
      "metadata": {
        "colab": {
          "base_uri": "https://localhost:8080/"
        },
        "id": "_az6MOyu-dsx",
        "outputId": "2801cadc-63c0-44ea-823f-4f4a642b9088"
      },
      "execution_count": 41,
      "outputs": [
        {
          "output_type": "stream",
          "name": "stdout",
          "text": [
            "0.7862954439173373\n"
          ]
        }
      ]
    },
    {
      "cell_type": "code",
      "source": [
        "import numpy as np"
      ],
      "metadata": {
        "id": "Wjo992f2-u_B"
      },
      "execution_count": 5,
      "outputs": []
    },
    {
      "cell_type": "code",
      "source": [
        "np.pi/4"
      ],
      "metadata": {
        "colab": {
          "base_uri": "https://localhost:8080/",
          "height": 37
        },
        "id": "TCghwera-xfq",
        "outputId": "f4194d4f-63db-4bb2-ef63-1660175d721f"
      },
      "execution_count": 18,
      "outputs": [
        {
          "output_type": "execute_result",
          "data": {
            "text/plain": [
              "0.7853981633974483"
            ],
            "text/latex": "$\\displaystyle 0.785398163397448$"
          },
          "metadata": {},
          "execution_count": 18
        }
      ]
    },
    {
      "cell_type": "markdown",
      "source": [
        "## Reimann Sum calculate area"
      ],
      "metadata": {
        "id": "XVGzx6S0Bj9q"
      }
    },
    {
      "cell_type": "code",
      "source": [
        "from sympy import *"
      ],
      "metadata": {
        "id": "pTp4JDFw-zNC"
      },
      "execution_count": 51,
      "outputs": []
    },
    {
      "cell_type": "code",
      "source": [
        "init_printing(use_unicode=False)"
      ],
      "metadata": {
        "id": "inonuM21Ad5l"
      },
      "execution_count": 52,
      "outputs": []
    },
    {
      "cell_type": "code",
      "source": [
        "x = Symbol('x')"
      ],
      "metadata": {
        "id": "8BNQvnHkAhsX"
      },
      "execution_count": 53,
      "outputs": []
    },
    {
      "cell_type": "code",
      "source": [
        "y = (1 - x**2)**(1/2)"
      ],
      "metadata": {
        "id": "mztD2XJIAnhf"
      },
      "execution_count": 43,
      "outputs": []
    },
    {
      "cell_type": "code",
      "source": [
        "y"
      ],
      "metadata": {
        "colab": {
          "base_uri": "https://localhost:8080/",
          "height": 42
        },
        "id": "0xVzv8ye6PWy",
        "outputId": "794e9761-5cf9-40f7-e422-803b37fe3be1"
      },
      "execution_count": 44,
      "outputs": [
        {
          "output_type": "execute_result",
          "data": {
            "text/plain": [
              "        0.5\n",
              "/     2\\   \n",
              "\\1 - x /   "
            ],
            "text/latex": "$\\displaystyle \\left(1 - x^{2}\\right)^{0.5}$"
          },
          "metadata": {},
          "execution_count": 44
        }
      ]
    },
    {
      "cell_type": "code",
      "source": [
        "def reimann_sum(y_func, n, a, b):\n",
        "    delta_x = (b - a) / n\n",
        "    sum = 0\n",
        "    for i in range(1, n+1):\n",
        "        sum += y_func.subs(x, a + i * delta_x)*delta_x\n",
        "    return sum"
      ],
      "metadata": {
        "id": "xqf8lWnz76Xz"
      },
      "execution_count": 46,
      "outputs": []
    },
    {
      "cell_type": "code",
      "source": [
        "reimann_sum(y, 100, 0, 1)"
      ],
      "metadata": {
        "colab": {
          "base_uri": "https://localhost:8080/",
          "height": 37
        },
        "id": "ecQyFVR786LC",
        "outputId": "e2760195-842f-4f11-c979-2182ef995849"
      },
      "execution_count": 48,
      "outputs": [
        {
          "output_type": "execute_result",
          "data": {
            "text/plain": [
              "0.780104257944762"
            ],
            "text/latex": "$\\displaystyle 0.780104257944762$"
          },
          "metadata": {},
          "execution_count": 48
        }
      ]
    },
    {
      "cell_type": "code",
      "source": [
        "import numpy as np\n",
        "from matplotlib import pyplot as plt"
      ],
      "metadata": {
        "id": "l-Yby4tJ9BgJ"
      },
      "execution_count": 56,
      "outputs": []
    },
    {
      "cell_type": "code",
      "source": [
        "x_vals = [i for i in range(5, 501, 5)]"
      ],
      "metadata": {
        "id": "7yM0UsLtClXZ"
      },
      "execution_count": 87,
      "outputs": []
    },
    {
      "cell_type": "code",
      "source": [
        "area_vals = [area for area in map(lambda n: reimann_sum(y, n, 0, 1), x_vals)]"
      ],
      "metadata": {
        "id": "m4OHxhNG-3Ez"
      },
      "execution_count": 89,
      "outputs": []
    },
    {
      "cell_type": "code",
      "source": [
        "plt.plot(x_vals, area_vals)\n",
        "plt.xlabel('n')\n",
        "plt.ylabel('area')\n",
        "plt.show()"
      ],
      "metadata": {
        "colab": {
          "base_uri": "https://localhost:8080/",
          "height": 449
        },
        "id": "Y0WoA3GXC1i_",
        "outputId": "31954dc9-749e-4ff2-c297-9a963336e75c"
      },
      "execution_count": 91,
      "outputs": [
        {
          "output_type": "display_data",
          "data": {
            "text/plain": [
              "<Figure size 640x480 with 1 Axes>"
            ],
            "image/png": "[encoded data removed]"
          },
          "metadata": {}
        }
      ]
    },
    {
      "cell_type": "code",
      "source": [],
      "metadata": {
        "id": "uS1YOlxOExD7"
      },
      "execution_count": null,
      "outputs": []
    }
  ]
}